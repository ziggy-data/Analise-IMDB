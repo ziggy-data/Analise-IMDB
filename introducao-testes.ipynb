{
 "cells": [
  {
   "cell_type": "code",
   "execution_count": 1,
   "id": "8d671d89",
   "metadata": {},
   "outputs": [],
   "source": [
    "import pandas as pd\n",
    "import seaborn as sns\n",
    "import matplotlib.pyplot as plt\n",
    "import numpy as np"
   ]
  },
  {
   "cell_type": "code",
   "execution_count": 2,
   "id": "539dc6cb",
   "metadata": {},
   "outputs": [],
   "source": [
    "tmdb = pd.read_csv('dados/tmdb_5000_movies.csv')"
   ]
  },
  {
   "cell_type": "code",
   "execution_count": 3,
   "id": "3abeda3d",
   "metadata": {},
   "outputs": [
    {
     "data": {
      "text/html": [
       "<div>\n",
       "<style scoped>\n",
       "    .dataframe tbody tr th:only-of-type {\n",
       "        vertical-align: middle;\n",
       "    }\n",
       "\n",
       "    .dataframe tbody tr th {\n",
       "        vertical-align: top;\n",
       "    }\n",
       "\n",
       "    .dataframe thead th {\n",
       "        text-align: right;\n",
       "    }\n",
       "</style>\n",
       "<table border=\"1\" class=\"dataframe\">\n",
       "  <thead>\n",
       "    <tr style=\"text-align: right;\">\n",
       "      <th></th>\n",
       "      <th>budget</th>\n",
       "      <th>genres</th>\n",
       "      <th>homepage</th>\n",
       "      <th>id</th>\n",
       "      <th>keywords</th>\n",
       "      <th>original_language</th>\n",
       "      <th>original_title</th>\n",
       "      <th>overview</th>\n",
       "      <th>popularity</th>\n",
       "      <th>production_companies</th>\n",
       "      <th>production_countries</th>\n",
       "      <th>release_date</th>\n",
       "      <th>revenue</th>\n",
       "      <th>runtime</th>\n",
       "      <th>spoken_languages</th>\n",
       "      <th>status</th>\n",
       "      <th>tagline</th>\n",
       "      <th>title</th>\n",
       "      <th>vote_average</th>\n",
       "      <th>vote_count</th>\n",
       "    </tr>\n",
       "  </thead>\n",
       "  <tbody>\n",
       "    <tr>\n",
       "      <th>0</th>\n",
       "      <td>237000000</td>\n",
       "      <td>[{\"id\": 28, \"name\": \"Action\"}, {\"id\": 12, \"nam...</td>\n",
       "      <td>http://www.avatarmovie.com/</td>\n",
       "      <td>19995</td>\n",
       "      <td>[{\"id\": 1463, \"name\": \"culture clash\"}, {\"id\":...</td>\n",
       "      <td>en</td>\n",
       "      <td>Avatar</td>\n",
       "      <td>In the 22nd century, a paraplegic Marine is di...</td>\n",
       "      <td>150.437577</td>\n",
       "      <td>[{\"name\": \"Ingenious Film Partners\", \"id\": 289...</td>\n",
       "      <td>[{\"iso_3166_1\": \"US\", \"name\": \"United States o...</td>\n",
       "      <td>2009-12-10</td>\n",
       "      <td>2787965087</td>\n",
       "      <td>162.0</td>\n",
       "      <td>[{\"iso_639_1\": \"en\", \"name\": \"English\"}, {\"iso...</td>\n",
       "      <td>Released</td>\n",
       "      <td>Enter the World of Pandora.</td>\n",
       "      <td>Avatar</td>\n",
       "      <td>7.2</td>\n",
       "      <td>11800</td>\n",
       "    </tr>\n",
       "    <tr>\n",
       "      <th>1</th>\n",
       "      <td>300000000</td>\n",
       "      <td>[{\"id\": 12, \"name\": \"Adventure\"}, {\"id\": 14, \"...</td>\n",
       "      <td>http://disney.go.com/disneypictures/pirates/</td>\n",
       "      <td>285</td>\n",
       "      <td>[{\"id\": 270, \"name\": \"ocean\"}, {\"id\": 726, \"na...</td>\n",
       "      <td>en</td>\n",
       "      <td>Pirates of the Caribbean: At World's End</td>\n",
       "      <td>Captain Barbossa, long believed to be dead, ha...</td>\n",
       "      <td>139.082615</td>\n",
       "      <td>[{\"name\": \"Walt Disney Pictures\", \"id\": 2}, {\"...</td>\n",
       "      <td>[{\"iso_3166_1\": \"US\", \"name\": \"United States o...</td>\n",
       "      <td>2007-05-19</td>\n",
       "      <td>961000000</td>\n",
       "      <td>169.0</td>\n",
       "      <td>[{\"iso_639_1\": \"en\", \"name\": \"English\"}]</td>\n",
       "      <td>Released</td>\n",
       "      <td>At the end of the world, the adventure begins.</td>\n",
       "      <td>Pirates of the Caribbean: At World's End</td>\n",
       "      <td>6.9</td>\n",
       "      <td>4500</td>\n",
       "    </tr>\n",
       "    <tr>\n",
       "      <th>2</th>\n",
       "      <td>245000000</td>\n",
       "      <td>[{\"id\": 28, \"name\": \"Action\"}, {\"id\": 12, \"nam...</td>\n",
       "      <td>http://www.sonypictures.com/movies/spectre/</td>\n",
       "      <td>206647</td>\n",
       "      <td>[{\"id\": 470, \"name\": \"spy\"}, {\"id\": 818, \"name...</td>\n",
       "      <td>en</td>\n",
       "      <td>Spectre</td>\n",
       "      <td>A cryptic message from Bond’s past sends him o...</td>\n",
       "      <td>107.376788</td>\n",
       "      <td>[{\"name\": \"Columbia Pictures\", \"id\": 5}, {\"nam...</td>\n",
       "      <td>[{\"iso_3166_1\": \"GB\", \"name\": \"United Kingdom\"...</td>\n",
       "      <td>2015-10-26</td>\n",
       "      <td>880674609</td>\n",
       "      <td>148.0</td>\n",
       "      <td>[{\"iso_639_1\": \"fr\", \"name\": \"Fran\\u00e7ais\"},...</td>\n",
       "      <td>Released</td>\n",
       "      <td>A Plan No One Escapes</td>\n",
       "      <td>Spectre</td>\n",
       "      <td>6.3</td>\n",
       "      <td>4466</td>\n",
       "    </tr>\n",
       "  </tbody>\n",
       "</table>\n",
       "</div>"
      ],
      "text/plain": [
       "      budget                                             genres  \\\n",
       "0  237000000  [{\"id\": 28, \"name\": \"Action\"}, {\"id\": 12, \"nam...   \n",
       "1  300000000  [{\"id\": 12, \"name\": \"Adventure\"}, {\"id\": 14, \"...   \n",
       "2  245000000  [{\"id\": 28, \"name\": \"Action\"}, {\"id\": 12, \"nam...   \n",
       "\n",
       "                                       homepage      id  \\\n",
       "0                   http://www.avatarmovie.com/   19995   \n",
       "1  http://disney.go.com/disneypictures/pirates/     285   \n",
       "2   http://www.sonypictures.com/movies/spectre/  206647   \n",
       "\n",
       "                                            keywords original_language  \\\n",
       "0  [{\"id\": 1463, \"name\": \"culture clash\"}, {\"id\":...                en   \n",
       "1  [{\"id\": 270, \"name\": \"ocean\"}, {\"id\": 726, \"na...                en   \n",
       "2  [{\"id\": 470, \"name\": \"spy\"}, {\"id\": 818, \"name...                en   \n",
       "\n",
       "                             original_title  \\\n",
       "0                                    Avatar   \n",
       "1  Pirates of the Caribbean: At World's End   \n",
       "2                                   Spectre   \n",
       "\n",
       "                                            overview  popularity  \\\n",
       "0  In the 22nd century, a paraplegic Marine is di...  150.437577   \n",
       "1  Captain Barbossa, long believed to be dead, ha...  139.082615   \n",
       "2  A cryptic message from Bond’s past sends him o...  107.376788   \n",
       "\n",
       "                                production_companies  \\\n",
       "0  [{\"name\": \"Ingenious Film Partners\", \"id\": 289...   \n",
       "1  [{\"name\": \"Walt Disney Pictures\", \"id\": 2}, {\"...   \n",
       "2  [{\"name\": \"Columbia Pictures\", \"id\": 5}, {\"nam...   \n",
       "\n",
       "                                production_countries release_date     revenue  \\\n",
       "0  [{\"iso_3166_1\": \"US\", \"name\": \"United States o...   2009-12-10  2787965087   \n",
       "1  [{\"iso_3166_1\": \"US\", \"name\": \"United States o...   2007-05-19   961000000   \n",
       "2  [{\"iso_3166_1\": \"GB\", \"name\": \"United Kingdom\"...   2015-10-26   880674609   \n",
       "\n",
       "   runtime                                   spoken_languages    status  \\\n",
       "0    162.0  [{\"iso_639_1\": \"en\", \"name\": \"English\"}, {\"iso...  Released   \n",
       "1    169.0           [{\"iso_639_1\": \"en\", \"name\": \"English\"}]  Released   \n",
       "2    148.0  [{\"iso_639_1\": \"fr\", \"name\": \"Fran\\u00e7ais\"},...  Released   \n",
       "\n",
       "                                          tagline  \\\n",
       "0                     Enter the World of Pandora.   \n",
       "1  At the end of the world, the adventure begins.   \n",
       "2                           A Plan No One Escapes   \n",
       "\n",
       "                                      title  vote_average  vote_count  \n",
       "0                                    Avatar           7.2       11800  \n",
       "1  Pirates of the Caribbean: At World's End           6.9        4500  \n",
       "2                                   Spectre           6.3        4466  "
      ]
     },
     "execution_count": 3,
     "metadata": {},
     "output_type": "execute_result"
    }
   ],
   "source": [
    "tmdb.head(3)"
   ]
  },
  {
   "cell_type": "code",
   "execution_count": 4,
   "id": "72e3eeb7",
   "metadata": {},
   "outputs": [
    {
     "data": {
      "text/html": [
       "<div>\n",
       "<style scoped>\n",
       "    .dataframe tbody tr th:only-of-type {\n",
       "        vertical-align: middle;\n",
       "    }\n",
       "\n",
       "    .dataframe tbody tr th {\n",
       "        vertical-align: top;\n",
       "    }\n",
       "\n",
       "    .dataframe thead th {\n",
       "        text-align: right;\n",
       "    }\n",
       "</style>\n",
       "<table border=\"1\" class=\"dataframe\">\n",
       "  <thead>\n",
       "    <tr style=\"text-align: right;\">\n",
       "      <th></th>\n",
       "      <th>budget</th>\n",
       "      <th>id</th>\n",
       "      <th>popularity</th>\n",
       "      <th>revenue</th>\n",
       "      <th>runtime</th>\n",
       "      <th>vote_average</th>\n",
       "      <th>vote_count</th>\n",
       "    </tr>\n",
       "  </thead>\n",
       "  <tbody>\n",
       "    <tr>\n",
       "      <th>count</th>\n",
       "      <td>4.803000e+03</td>\n",
       "      <td>4803.000000</td>\n",
       "      <td>4803.000000</td>\n",
       "      <td>4.803000e+03</td>\n",
       "      <td>4801.000000</td>\n",
       "      <td>4803.000000</td>\n",
       "      <td>4803.000000</td>\n",
       "    </tr>\n",
       "    <tr>\n",
       "      <th>mean</th>\n",
       "      <td>2.904504e+07</td>\n",
       "      <td>57165.484281</td>\n",
       "      <td>21.492301</td>\n",
       "      <td>8.226064e+07</td>\n",
       "      <td>106.875859</td>\n",
       "      <td>6.092172</td>\n",
       "      <td>690.217989</td>\n",
       "    </tr>\n",
       "    <tr>\n",
       "      <th>std</th>\n",
       "      <td>4.072239e+07</td>\n",
       "      <td>88694.614033</td>\n",
       "      <td>31.816650</td>\n",
       "      <td>1.628571e+08</td>\n",
       "      <td>22.611935</td>\n",
       "      <td>1.194612</td>\n",
       "      <td>1234.585891</td>\n",
       "    </tr>\n",
       "    <tr>\n",
       "      <th>min</th>\n",
       "      <td>0.000000e+00</td>\n",
       "      <td>5.000000</td>\n",
       "      <td>0.000000</td>\n",
       "      <td>0.000000e+00</td>\n",
       "      <td>0.000000</td>\n",
       "      <td>0.000000</td>\n",
       "      <td>0.000000</td>\n",
       "    </tr>\n",
       "    <tr>\n",
       "      <th>25%</th>\n",
       "      <td>7.900000e+05</td>\n",
       "      <td>9014.500000</td>\n",
       "      <td>4.668070</td>\n",
       "      <td>0.000000e+00</td>\n",
       "      <td>94.000000</td>\n",
       "      <td>5.600000</td>\n",
       "      <td>54.000000</td>\n",
       "    </tr>\n",
       "    <tr>\n",
       "      <th>50%</th>\n",
       "      <td>1.500000e+07</td>\n",
       "      <td>14629.000000</td>\n",
       "      <td>12.921594</td>\n",
       "      <td>1.917000e+07</td>\n",
       "      <td>103.000000</td>\n",
       "      <td>6.200000</td>\n",
       "      <td>235.000000</td>\n",
       "    </tr>\n",
       "    <tr>\n",
       "      <th>75%</th>\n",
       "      <td>4.000000e+07</td>\n",
       "      <td>58610.500000</td>\n",
       "      <td>28.313505</td>\n",
       "      <td>9.291719e+07</td>\n",
       "      <td>118.000000</td>\n",
       "      <td>6.800000</td>\n",
       "      <td>737.000000</td>\n",
       "    </tr>\n",
       "    <tr>\n",
       "      <th>max</th>\n",
       "      <td>3.800000e+08</td>\n",
       "      <td>459488.000000</td>\n",
       "      <td>875.581305</td>\n",
       "      <td>2.787965e+09</td>\n",
       "      <td>338.000000</td>\n",
       "      <td>10.000000</td>\n",
       "      <td>13752.000000</td>\n",
       "    </tr>\n",
       "  </tbody>\n",
       "</table>\n",
       "</div>"
      ],
      "text/plain": [
       "             budget             id   popularity       revenue      runtime  \\\n",
       "count  4.803000e+03    4803.000000  4803.000000  4.803000e+03  4801.000000   \n",
       "mean   2.904504e+07   57165.484281    21.492301  8.226064e+07   106.875859   \n",
       "std    4.072239e+07   88694.614033    31.816650  1.628571e+08    22.611935   \n",
       "min    0.000000e+00       5.000000     0.000000  0.000000e+00     0.000000   \n",
       "25%    7.900000e+05    9014.500000     4.668070  0.000000e+00    94.000000   \n",
       "50%    1.500000e+07   14629.000000    12.921594  1.917000e+07   103.000000   \n",
       "75%    4.000000e+07   58610.500000    28.313505  9.291719e+07   118.000000   \n",
       "max    3.800000e+08  459488.000000   875.581305  2.787965e+09   338.000000   \n",
       "\n",
       "       vote_average    vote_count  \n",
       "count   4803.000000   4803.000000  \n",
       "mean       6.092172    690.217989  \n",
       "std        1.194612   1234.585891  \n",
       "min        0.000000      0.000000  \n",
       "25%        5.600000     54.000000  \n",
       "50%        6.200000    235.000000  \n",
       "75%        6.800000    737.000000  \n",
       "max       10.000000  13752.000000  "
      ]
     },
     "execution_count": 4,
     "metadata": {},
     "output_type": "execute_result"
    }
   ],
   "source": [
    "tmdb.describe()"
   ]
  },
  {
   "cell_type": "code",
   "execution_count": 5,
   "id": "ed671eb9",
   "metadata": {},
   "outputs": [
    {
     "data": {
      "text/plain": [
       "[Text(0.5, 0, 'Nota média'), Text(0, 0.5, 'Frequência')]"
      ]
     },
     "execution_count": 5,
     "metadata": {},
     "output_type": "execute_result"
    },
    {
     "data": {
      "image/png": "[encoded data removed]",
      "text/plain": [
       "<Figure size 432x288 with 1 Axes>"
      ]
     },
     "metadata": {
      "needs_background": "light"
     },
     "output_type": "display_data"
    }
   ],
   "source": [
    "ax = sns.histplot(tmdb.vote_average, kde=True, stat=\"frequency\")\n",
    "ax.set(xlabel='Nota média',ylabel='Frequência')"
   ]
  },
  {
   "cell_type": "code",
   "execution_count": 6,
   "id": "e68531b4",
   "metadata": {},
   "outputs": [
    {
     "data": {
      "text/plain": [
       "[Text(0.5, 0, 'Nota média'), Text(0, 0.5, 'Densidade')]"
      ]
     },
     "execution_count": 6,
     "metadata": {},
     "output_type": "execute_result"
    },
    {
     "data": {
      "image/png": "[encoded data removed]",
      "text/plain": [
       "<Figure size 432x288 with 1 Axes>"
      ]
     },
     "metadata": {
      "needs_background": "light"
     },
     "output_type": "display_data"
    }
   ],
   "source": [
    "ax = sns.histplot(tmdb.vote_average,stat='count')\n",
    "ax.set(xlabel='Nota média',ylabel='Densidade')"
   ]
  },
  {
   "cell_type": "code",
   "execution_count": 7,
   "id": "3e07a5fc",
   "metadata": {},
   "outputs": [
    {
     "data": {
      "text/plain": [
       "Text(0.5, 1.0, 'Distribuição de nota média dos filmes do TMDB 5000')"
      ]
     },
     "execution_count": 7,
     "metadata": {},
     "output_type": "execute_result"
    },
    {
     "data": {
      "image/png": "[encoded data removed]",
      "text/plain": [
       "<Figure size 432x288 with 1 Axes>"
      ]
     },
     "metadata": {
      "needs_background": "light"
     },
     "output_type": "display_data"
    }
   ],
   "source": [
    "ax = sns.boxplot(x=tmdb.vote_average)\n",
    "ax.set_xlabel('Média da notas dos filmes')\n",
    "ax.set_title('Distribuição de nota média dos filmes do TMDB 5000')"
   ]
  },
  {
   "cell_type": "code",
   "execution_count": 8,
   "id": "339b1488",
   "metadata": {},
   "outputs": [
    {
     "data": {
      "text/html": [
       "<div>\n",
       "<style scoped>\n",
       "    .dataframe tbody tr th:only-of-type {\n",
       "        vertical-align: middle;\n",
       "    }\n",
       "\n",
       "    .dataframe tbody tr th {\n",
       "        vertical-align: top;\n",
       "    }\n",
       "\n",
       "    .dataframe thead th {\n",
       "        text-align: right;\n",
       "    }\n",
       "</style>\n",
       "<table border=\"1\" class=\"dataframe\">\n",
       "  <thead>\n",
       "    <tr style=\"text-align: right;\">\n",
       "      <th></th>\n",
       "      <th>budget</th>\n",
       "      <th>genres</th>\n",
       "      <th>homepage</th>\n",
       "      <th>id</th>\n",
       "      <th>keywords</th>\n",
       "      <th>original_language</th>\n",
       "      <th>original_title</th>\n",
       "      <th>overview</th>\n",
       "      <th>popularity</th>\n",
       "      <th>production_companies</th>\n",
       "      <th>production_countries</th>\n",
       "      <th>release_date</th>\n",
       "      <th>revenue</th>\n",
       "      <th>runtime</th>\n",
       "      <th>spoken_languages</th>\n",
       "      <th>status</th>\n",
       "      <th>tagline</th>\n",
       "      <th>title</th>\n",
       "      <th>vote_average</th>\n",
       "      <th>vote_count</th>\n",
       "    </tr>\n",
       "  </thead>\n",
       "  <tbody>\n",
       "    <tr>\n",
       "      <th>1464</th>\n",
       "      <td>0</td>\n",
       "      <td>[{\"id\": 18, \"name\": \"Drama\"}, {\"id\": 80, \"name...</td>\n",
       "      <td>NaN</td>\n",
       "      <td>310706</td>\n",
       "      <td>[]</td>\n",
       "      <td>en</td>\n",
       "      <td>Black Water Transit</td>\n",
       "      <td>In this action thriller set in post-Katrina Ne...</td>\n",
       "      <td>0.126738</td>\n",
       "      <td>[{\"name\": \"Capitol Films\", \"id\": 826}]</td>\n",
       "      <td>[{\"iso_3166_1\": \"US\", \"name\": \"United States o...</td>\n",
       "      <td>2009-05-13</td>\n",
       "      <td>0</td>\n",
       "      <td>100.0</td>\n",
       "      <td>[{\"iso_639_1\": \"en\", \"name\": \"English\"}]</td>\n",
       "      <td>Released</td>\n",
       "      <td>NaN</td>\n",
       "      <td>Black Water Transit</td>\n",
       "      <td>0.0</td>\n",
       "      <td>0</td>\n",
       "    </tr>\n",
       "    <tr>\n",
       "      <th>3669</th>\n",
       "      <td>0</td>\n",
       "      <td>[{\"id\": 35, \"name\": \"Comedy\"}, {\"id\": 18, \"nam...</td>\n",
       "      <td>http://www.romeothemovie.com/</td>\n",
       "      <td>113406</td>\n",
       "      <td>[]</td>\n",
       "      <td>en</td>\n",
       "      <td>Should've Been Romeo</td>\n",
       "      <td>A self-centered, middle-aged pitchman for a po...</td>\n",
       "      <td>0.407030</td>\n",
       "      <td>[{\"name\": \"Phillybrook Films\", \"id\": 65147}]</td>\n",
       "      <td>[{\"iso_3166_1\": \"US\", \"name\": \"United States o...</td>\n",
       "      <td>2012-04-28</td>\n",
       "      <td>0</td>\n",
       "      <td>0.0</td>\n",
       "      <td>[{\"iso_639_1\": \"en\", \"name\": \"English\"}]</td>\n",
       "      <td>Released</td>\n",
       "      <td>Even Shakespeare didn't see this one coming.</td>\n",
       "      <td>Should've Been Romeo</td>\n",
       "      <td>0.0</td>\n",
       "      <td>0</td>\n",
       "    </tr>\n",
       "    <tr>\n",
       "      <th>3670</th>\n",
       "      <td>0</td>\n",
       "      <td>[{\"id\": 10751, \"name\": \"Family\"}]</td>\n",
       "      <td>NaN</td>\n",
       "      <td>447027</td>\n",
       "      <td>[]</td>\n",
       "      <td>en</td>\n",
       "      <td>Running Forever</td>\n",
       "      <td>After being estranged since her mother's death...</td>\n",
       "      <td>0.028756</td>\n",
       "      <td>[{\"name\": \"New Kingdom Pictures\", \"id\": 41671}]</td>\n",
       "      <td>[{\"iso_3166_1\": \"US\", \"name\": \"United States o...</td>\n",
       "      <td>2015-10-27</td>\n",
       "      <td>0</td>\n",
       "      <td>88.0</td>\n",
       "      <td>[]</td>\n",
       "      <td>Released</td>\n",
       "      <td>NaN</td>\n",
       "      <td>Running Forever</td>\n",
       "      <td>0.0</td>\n",
       "      <td>0</td>\n",
       "    </tr>\n",
       "    <tr>\n",
       "      <th>3852</th>\n",
       "      <td>0</td>\n",
       "      <td>[{\"id\": 18, \"name\": \"Drama\"}]</td>\n",
       "      <td>NaN</td>\n",
       "      <td>395766</td>\n",
       "      <td>[{\"id\": 11162, \"name\": \"miniseries\"}]</td>\n",
       "      <td>en</td>\n",
       "      <td>The Secret</td>\n",
       "      <td>The Secret is the story of a real-life double ...</td>\n",
       "      <td>0.042346</td>\n",
       "      <td>[]</td>\n",
       "      <td>[]</td>\n",
       "      <td>2016-04-29</td>\n",
       "      <td>0</td>\n",
       "      <td>200.0</td>\n",
       "      <td>[]</td>\n",
       "      <td>Released</td>\n",
       "      <td>NaN</td>\n",
       "      <td>The Secret</td>\n",
       "      <td>0.0</td>\n",
       "      <td>0</td>\n",
       "    </tr>\n",
       "    <tr>\n",
       "      <th>3855</th>\n",
       "      <td>3500000</td>\n",
       "      <td>[{\"id\": 99, \"name\": \"Documentary\"}]</td>\n",
       "      <td>http://www.timetochoose.com</td>\n",
       "      <td>370662</td>\n",
       "      <td>[{\"id\": 2210, \"name\": \"climate change\"}, {\"id\"...</td>\n",
       "      <td>en</td>\n",
       "      <td>Time to Choose</td>\n",
       "      <td>Academy Award® winning director Charles Fergus...</td>\n",
       "      <td>1.618138</td>\n",
       "      <td>[{\"name\": \"Representational Pictures\", \"id\": 8...</td>\n",
       "      <td>[{\"iso_3166_1\": \"US\", \"name\": \"United States o...</td>\n",
       "      <td>2015-09-04</td>\n",
       "      <td>0</td>\n",
       "      <td>100.0</td>\n",
       "      <td>[{\"iso_639_1\": \"en\", \"name\": \"English\"}]</td>\n",
       "      <td>Released</td>\n",
       "      <td>Climate change for good.</td>\n",
       "      <td>Time to Choose</td>\n",
       "      <td>0.0</td>\n",
       "      <td>0</td>\n",
       "    </tr>\n",
       "    <tr>\n",
       "      <th>...</th>\n",
       "      <td>...</td>\n",
       "      <td>...</td>\n",
       "      <td>...</td>\n",
       "      <td>...</td>\n",
       "      <td>...</td>\n",
       "      <td>...</td>\n",
       "      <td>...</td>\n",
       "      <td>...</td>\n",
       "      <td>...</td>\n",
       "      <td>...</td>\n",
       "      <td>...</td>\n",
       "      <td>...</td>\n",
       "      <td>...</td>\n",
       "      <td>...</td>\n",
       "      <td>...</td>\n",
       "      <td>...</td>\n",
       "      <td>...</td>\n",
       "      <td>...</td>\n",
       "      <td>...</td>\n",
       "      <td>...</td>\n",
       "    </tr>\n",
       "    <tr>\n",
       "      <th>4769</th>\n",
       "      <td>0</td>\n",
       "      <td>[{\"id\": 28, \"name\": \"Action\"}, {\"id\": 37, \"nam...</td>\n",
       "      <td>NaN</td>\n",
       "      <td>69382</td>\n",
       "      <td>[]</td>\n",
       "      <td>en</td>\n",
       "      <td>The Legend of God's Gun</td>\n",
       "      <td>A gun-slinging preacher returns to the debauch...</td>\n",
       "      <td>0.003582</td>\n",
       "      <td>[]</td>\n",
       "      <td>[]</td>\n",
       "      <td>2007-07-08</td>\n",
       "      <td>0</td>\n",
       "      <td>78.0</td>\n",
       "      <td>[]</td>\n",
       "      <td>Released</td>\n",
       "      <td>NaN</td>\n",
       "      <td>The Legend of God's Gun</td>\n",
       "      <td>0.0</td>\n",
       "      <td>0</td>\n",
       "    </tr>\n",
       "    <tr>\n",
       "      <th>4771</th>\n",
       "      <td>0</td>\n",
       "      <td>[{\"id\": 27, \"name\": \"Horror\"}]</td>\n",
       "      <td>NaN</td>\n",
       "      <td>220490</td>\n",
       "      <td>[]</td>\n",
       "      <td>en</td>\n",
       "      <td>Her Cry: La Llorona Investigation</td>\n",
       "      <td>Crew of \"Paranormal Legends\" went to film thei...</td>\n",
       "      <td>0.056459</td>\n",
       "      <td>[]</td>\n",
       "      <td>[]</td>\n",
       "      <td>2013-04-19</td>\n",
       "      <td>0</td>\n",
       "      <td>89.0</td>\n",
       "      <td>[]</td>\n",
       "      <td>Released</td>\n",
       "      <td>NaN</td>\n",
       "      <td>Her Cry: La Llorona Investigation</td>\n",
       "      <td>0.0</td>\n",
       "      <td>0</td>\n",
       "    </tr>\n",
       "    <tr>\n",
       "      <th>4780</th>\n",
       "      <td>0</td>\n",
       "      <td>[{\"id\": 53, \"name\": \"Thriller\"}, {\"id\": 80, \"n...</td>\n",
       "      <td>NaN</td>\n",
       "      <td>366967</td>\n",
       "      <td>[]</td>\n",
       "      <td>en</td>\n",
       "      <td>Dutch Kills</td>\n",
       "      <td>A desperate ex-con is forced to gather his old...</td>\n",
       "      <td>0.038143</td>\n",
       "      <td>[]</td>\n",
       "      <td>[]</td>\n",
       "      <td>2015-10-02</td>\n",
       "      <td>0</td>\n",
       "      <td>90.0</td>\n",
       "      <td>[]</td>\n",
       "      <td>Released</td>\n",
       "      <td>NaN</td>\n",
       "      <td>Dutch Kills</td>\n",
       "      <td>0.0</td>\n",
       "      <td>0</td>\n",
       "    </tr>\n",
       "    <tr>\n",
       "      <th>4785</th>\n",
       "      <td>0</td>\n",
       "      <td>[{\"id\": 18, \"name\": \"Drama\"}]</td>\n",
       "      <td>NaN</td>\n",
       "      <td>287625</td>\n",
       "      <td>[]</td>\n",
       "      <td>en</td>\n",
       "      <td>Stories of Our Lives</td>\n",
       "      <td>Created by the members of a Nairobi-based arts...</td>\n",
       "      <td>0.327794</td>\n",
       "      <td>[]</td>\n",
       "      <td>[{\"iso_3166_1\": \"KE\", \"name\": \"Kenya\"}]</td>\n",
       "      <td>2014-09-05</td>\n",
       "      <td>0</td>\n",
       "      <td>60.0</td>\n",
       "      <td>[{\"iso_639_1\": \"sw\", \"name\": \"Kiswahili\"}, {\"i...</td>\n",
       "      <td>Released</td>\n",
       "      <td>NaN</td>\n",
       "      <td>Stories of Our Lives</td>\n",
       "      <td>0.0</td>\n",
       "      <td>0</td>\n",
       "    </tr>\n",
       "    <tr>\n",
       "      <th>4794</th>\n",
       "      <td>0</td>\n",
       "      <td>[{\"id\": 53, \"name\": \"Thriller\"}, {\"id\": 27, \"n...</td>\n",
       "      <td>NaN</td>\n",
       "      <td>286939</td>\n",
       "      <td>[]</td>\n",
       "      <td>en</td>\n",
       "      <td>Sanctuary: Quite a Conundrum</td>\n",
       "      <td>It should have been just a normal day of sex, ...</td>\n",
       "      <td>0.166513</td>\n",
       "      <td>[{\"name\": \"Gold Lion Films\", \"id\": 37870}, {\"n...</td>\n",
       "      <td>[{\"iso_3166_1\": \"US\", \"name\": \"United States o...</td>\n",
       "      <td>2012-01-20</td>\n",
       "      <td>0</td>\n",
       "      <td>82.0</td>\n",
       "      <td>[{\"iso_639_1\": \"en\", \"name\": \"English\"}]</td>\n",
       "      <td>Released</td>\n",
       "      <td>NaN</td>\n",
       "      <td>Sanctuary: Quite a Conundrum</td>\n",
       "      <td>0.0</td>\n",
       "      <td>0</td>\n",
       "    </tr>\n",
       "  </tbody>\n",
       "</table>\n",
       "<p>62 rows × 20 columns</p>\n",
       "</div>"
      ],
      "text/plain": [
       "       budget                                             genres  \\\n",
       "1464        0  [{\"id\": 18, \"name\": \"Drama\"}, {\"id\": 80, \"name...   \n",
       "3669        0  [{\"id\": 35, \"name\": \"Comedy\"}, {\"id\": 18, \"nam...   \n",
       "3670        0                  [{\"id\": 10751, \"name\": \"Family\"}]   \n",
       "3852        0                      [{\"id\": 18, \"name\": \"Drama\"}]   \n",
       "3855  3500000                [{\"id\": 99, \"name\": \"Documentary\"}]   \n",
       "...       ...                                                ...   \n",
       "4769        0  [{\"id\": 28, \"name\": \"Action\"}, {\"id\": 37, \"nam...   \n",
       "4771        0                     [{\"id\": 27, \"name\": \"Horror\"}]   \n",
       "4780        0  [{\"id\": 53, \"name\": \"Thriller\"}, {\"id\": 80, \"n...   \n",
       "4785        0                      [{\"id\": 18, \"name\": \"Drama\"}]   \n",
       "4794        0  [{\"id\": 53, \"name\": \"Thriller\"}, {\"id\": 27, \"n...   \n",
       "\n",
       "                           homepage      id  \\\n",
       "1464                            NaN  310706   \n",
       "3669  http://www.romeothemovie.com/  113406   \n",
       "3670                            NaN  447027   \n",
       "3852                            NaN  395766   \n",
       "3855    http://www.timetochoose.com  370662   \n",
       "...                             ...     ...   \n",
       "4769                            NaN   69382   \n",
       "4771                            NaN  220490   \n",
       "4780                            NaN  366967   \n",
       "4785                            NaN  287625   \n",
       "4794                            NaN  286939   \n",
       "\n",
       "                                               keywords original_language  \\\n",
       "1464                                                 []                en   \n",
       "3669                                                 []                en   \n",
       "3670                                                 []                en   \n",
       "3852              [{\"id\": 11162, \"name\": \"miniseries\"}]                en   \n",
       "3855  [{\"id\": 2210, \"name\": \"climate change\"}, {\"id\"...                en   \n",
       "...                                                 ...               ...   \n",
       "4769                                                 []                en   \n",
       "4771                                                 []                en   \n",
       "4780                                                 []                en   \n",
       "4785                                                 []                en   \n",
       "4794                                                 []                en   \n",
       "\n",
       "                         original_title  \\\n",
       "1464                Black Water Transit   \n",
       "3669               Should've Been Romeo   \n",
       "3670                    Running Forever   \n",
       "3852                         The Secret   \n",
       "3855                     Time to Choose   \n",
       "...                                 ...   \n",
       "4769            The Legend of God's Gun   \n",
       "4771  Her Cry: La Llorona Investigation   \n",
       "4780                        Dutch Kills   \n",
       "4785               Stories of Our Lives   \n",
       "4794       Sanctuary: Quite a Conundrum   \n",
       "\n",
       "                                               overview  popularity  \\\n",
       "1464  In this action thriller set in post-Katrina Ne...    0.126738   \n",
       "3669  A self-centered, middle-aged pitchman for a po...    0.407030   \n",
       "3670  After being estranged since her mother's death...    0.028756   \n",
       "3852  The Secret is the story of a real-life double ...    0.042346   \n",
       "3855  Academy Award® winning director Charles Fergus...    1.618138   \n",
       "...                                                 ...         ...   \n",
       "4769  A gun-slinging preacher returns to the debauch...    0.003582   \n",
       "4771  Crew of \"Paranormal Legends\" went to film thei...    0.056459   \n",
       "4780  A desperate ex-con is forced to gather his old...    0.038143   \n",
       "4785  Created by the members of a Nairobi-based arts...    0.327794   \n",
       "4794  It should have been just a normal day of sex, ...    0.166513   \n",
       "\n",
       "                                   production_companies  \\\n",
       "1464             [{\"name\": \"Capitol Films\", \"id\": 826}]   \n",
       "3669       [{\"name\": \"Phillybrook Films\", \"id\": 65147}]   \n",
       "3670    [{\"name\": \"New Kingdom Pictures\", \"id\": 41671}]   \n",
       "3852                                                 []   \n",
       "3855  [{\"name\": \"Representational Pictures\", \"id\": 8...   \n",
       "...                                                 ...   \n",
       "4769                                                 []   \n",
       "4771                                                 []   \n",
       "4780                                                 []   \n",
       "4785                                                 []   \n",
       "4794  [{\"name\": \"Gold Lion Films\", \"id\": 37870}, {\"n...   \n",
       "\n",
       "                                   production_countries release_date  revenue  \\\n",
       "1464  [{\"iso_3166_1\": \"US\", \"name\": \"United States o...   2009-05-13        0   \n",
       "3669  [{\"iso_3166_1\": \"US\", \"name\": \"United States o...   2012-04-28        0   \n",
       "3670  [{\"iso_3166_1\": \"US\", \"name\": \"United States o...   2015-10-27        0   \n",
       "3852                                                 []   2016-04-29        0   \n",
       "3855  [{\"iso_3166_1\": \"US\", \"name\": \"United States o...   2015-09-04        0   \n",
       "...                                                 ...          ...      ...   \n",
       "4769                                                 []   2007-07-08        0   \n",
       "4771                                                 []   2013-04-19        0   \n",
       "4780                                                 []   2015-10-02        0   \n",
       "4785            [{\"iso_3166_1\": \"KE\", \"name\": \"Kenya\"}]   2014-09-05        0   \n",
       "4794  [{\"iso_3166_1\": \"US\", \"name\": \"United States o...   2012-01-20        0   \n",
       "\n",
       "      runtime                                   spoken_languages    status  \\\n",
       "1464    100.0           [{\"iso_639_1\": \"en\", \"name\": \"English\"}]  Released   \n",
       "3669      0.0           [{\"iso_639_1\": \"en\", \"name\": \"English\"}]  Released   \n",
       "3670     88.0                                                 []  Released   \n",
       "3852    200.0                                                 []  Released   \n",
       "3855    100.0           [{\"iso_639_1\": \"en\", \"name\": \"English\"}]  Released   \n",
       "...       ...                                                ...       ...   \n",
       "4769     78.0                                                 []  Released   \n",
       "4771     89.0                                                 []  Released   \n",
       "4780     90.0                                                 []  Released   \n",
       "4785     60.0  [{\"iso_639_1\": \"sw\", \"name\": \"Kiswahili\"}, {\"i...  Released   \n",
       "4794     82.0           [{\"iso_639_1\": \"en\", \"name\": \"English\"}]  Released   \n",
       "\n",
       "                                           tagline  \\\n",
       "1464                                           NaN   \n",
       "3669  Even Shakespeare didn't see this one coming.   \n",
       "3670                                           NaN   \n",
       "3852                                           NaN   \n",
       "3855                      Climate change for good.   \n",
       "...                                            ...   \n",
       "4769                                           NaN   \n",
       "4771                                           NaN   \n",
       "4780                                           NaN   \n",
       "4785                                           NaN   \n",
       "4794                                           NaN   \n",
       "\n",
       "                                  title  vote_average  vote_count  \n",
       "1464                Black Water Transit           0.0           0  \n",
       "3669               Should've Been Romeo           0.0           0  \n",
       "3670                    Running Forever           0.0           0  \n",
       "3852                         The Secret           0.0           0  \n",
       "3855                     Time to Choose           0.0           0  \n",
       "...                                 ...           ...         ...  \n",
       "4769            The Legend of God's Gun           0.0           0  \n",
       "4771  Her Cry: La Llorona Investigation           0.0           0  \n",
       "4780                        Dutch Kills           0.0           0  \n",
       "4785               Stories of Our Lives           0.0           0  \n",
       "4794       Sanctuary: Quite a Conundrum           0.0           0  \n",
       "\n",
       "[62 rows x 20 columns]"
      ]
     },
     "execution_count": 8,
     "metadata": {},
     "output_type": "execute_result"
    }
   ],
   "source": [
    "tmdb.query(\"vote_count == 0\")"
   ]
  },
  {
   "cell_type": "markdown",
   "id": "f6b50472",
   "metadata": {},
   "source": [
    "<strong>Percebemos uma estranhesa nos dados acima com média d notas sendo 10 ou 0 e ao análisar percebemos que a quantidade de votos foram baixas ou estão vazias (sendo maioria 0)</strong>"
   ]
  },
  {
   "cell_type": "code",
   "execution_count": 9,
   "id": "891069b8",
   "metadata": {},
   "outputs": [
    {
     "data": {
      "text/html": [
       "<div>\n",
       "<style scoped>\n",
       "    .dataframe tbody tr th:only-of-type {\n",
       "        vertical-align: middle;\n",
       "    }\n",
       "\n",
       "    .dataframe tbody tr th {\n",
       "        vertical-align: top;\n",
       "    }\n",
       "\n",
       "    .dataframe thead th {\n",
       "        text-align: right;\n",
       "    }\n",
       "</style>\n",
       "<table border=\"1\" class=\"dataframe\">\n",
       "  <thead>\n",
       "    <tr style=\"text-align: right;\">\n",
       "      <th></th>\n",
       "      <th>budget</th>\n",
       "      <th>id</th>\n",
       "      <th>popularity</th>\n",
       "      <th>revenue</th>\n",
       "      <th>runtime</th>\n",
       "      <th>vote_average</th>\n",
       "      <th>vote_count</th>\n",
       "    </tr>\n",
       "  </thead>\n",
       "  <tbody>\n",
       "    <tr>\n",
       "      <th>count</th>\n",
       "      <td>4.392000e+03</td>\n",
       "      <td>4392.0000</td>\n",
       "      <td>4392.0000</td>\n",
       "      <td>4.392000e+03</td>\n",
       "      <td>4391.0000</td>\n",
       "      <td>4392.0000</td>\n",
       "      <td>4392.0000</td>\n",
       "    </tr>\n",
       "    <tr>\n",
       "      <th>mean</th>\n",
       "      <td>3.164545e+07</td>\n",
       "      <td>49204.1200</td>\n",
       "      <td>23.4488</td>\n",
       "      <td>8.990969e+07</td>\n",
       "      <td>108.4309</td>\n",
       "      <td>6.2269</td>\n",
       "      <td>754.4417</td>\n",
       "    </tr>\n",
       "    <tr>\n",
       "      <th>std</th>\n",
       "      <td>4.162736e+07</td>\n",
       "      <td>80136.2498</td>\n",
       "      <td>32.5922</td>\n",
       "      <td>1.682870e+08</td>\n",
       "      <td>21.0147</td>\n",
       "      <td>0.8932</td>\n",
       "      <td>1272.2638</td>\n",
       "    </tr>\n",
       "    <tr>\n",
       "      <th>min</th>\n",
       "      <td>0.000000e+00</td>\n",
       "      <td>5.0000</td>\n",
       "      <td>0.0117</td>\n",
       "      <td>0.000000e+00</td>\n",
       "      <td>0.0000</td>\n",
       "      <td>1.9000</td>\n",
       "      <td>10.0000</td>\n",
       "    </tr>\n",
       "    <tr>\n",
       "      <th>25%</th>\n",
       "      <td>2.895962e+06</td>\n",
       "      <td>8403.5000</td>\n",
       "      <td>6.5122</td>\n",
       "      <td>1.365700e+04</td>\n",
       "      <td>95.0000</td>\n",
       "      <td>5.7000</td>\n",
       "      <td>83.7500</td>\n",
       "    </tr>\n",
       "    <tr>\n",
       "      <th>50%</th>\n",
       "      <td>1.700000e+07</td>\n",
       "      <td>13084.5000</td>\n",
       "      <td>14.8278</td>\n",
       "      <td>2.685837e+07</td>\n",
       "      <td>105.0000</td>\n",
       "      <td>6.3000</td>\n",
       "      <td>288.5000</td>\n",
       "    </tr>\n",
       "    <tr>\n",
       "      <th>75%</th>\n",
       "      <td>4.200000e+07</td>\n",
       "      <td>46831.2500</td>\n",
       "      <td>30.2583</td>\n",
       "      <td>1.022818e+08</td>\n",
       "      <td>118.5000</td>\n",
       "      <td>6.8000</td>\n",
       "      <td>831.0000</td>\n",
       "    </tr>\n",
       "    <tr>\n",
       "      <th>max</th>\n",
       "      <td>3.800000e+08</td>\n",
       "      <td>417859.0000</td>\n",
       "      <td>875.5813</td>\n",
       "      <td>2.787965e+09</td>\n",
       "      <td>338.0000</td>\n",
       "      <td>8.5000</td>\n",
       "      <td>13752.0000</td>\n",
       "    </tr>\n",
       "  </tbody>\n",
       "</table>\n",
       "</div>"
      ],
      "text/plain": [
       "             budget           id  popularity       revenue    runtime  \\\n",
       "count  4.392000e+03    4392.0000   4392.0000  4.392000e+03  4391.0000   \n",
       "mean   3.164545e+07   49204.1200     23.4488  8.990969e+07   108.4309   \n",
       "std    4.162736e+07   80136.2498     32.5922  1.682870e+08    21.0147   \n",
       "min    0.000000e+00       5.0000      0.0117  0.000000e+00     0.0000   \n",
       "25%    2.895962e+06    8403.5000      6.5122  1.365700e+04    95.0000   \n",
       "50%    1.700000e+07   13084.5000     14.8278  2.685837e+07   105.0000   \n",
       "75%    4.200000e+07   46831.2500     30.2583  1.022818e+08   118.5000   \n",
       "max    3.800000e+08  417859.0000    875.5813  2.787965e+09   338.0000   \n",
       "\n",
       "       vote_average  vote_count  \n",
       "count     4392.0000   4392.0000  \n",
       "mean         6.2269    754.4417  \n",
       "std          0.8932   1272.2638  \n",
       "min          1.9000     10.0000  \n",
       "25%          5.7000     83.7500  \n",
       "50%          6.3000    288.5000  \n",
       "75%          6.8000    831.0000  \n",
       "max          8.5000  13752.0000  "
      ]
     },
     "execution_count": 9,
     "metadata": {},
     "output_type": "execute_result"
    }
   ],
   "source": [
    "tmdb_mais_dez = tmdb.query(\"vote_count >= 10\")\n",
    "tmdb_mais_dez.describe().round(4)"
   ]
  },
  {
   "cell_type": "code",
   "execution_count": 10,
   "id": "7dae6328",
   "metadata": {},
   "outputs": [
    {
     "data": {
      "text/plain": [
       "Text(0.5, 1.0, 'Distribuição de nota média dos filmes do TMDB 5000 entre os filmes com mais de 10 votos')"
      ]
     },
     "execution_count": 10,
     "metadata": {},
     "output_type": "execute_result"
    },
    {
     "data": {
      "image/png": "[encoded data removed]",
      "text/plain": [
       "<Figure size 432x288 with 1 Axes>"
      ]
     },
     "metadata": {
      "needs_background": "light"
     },
     "output_type": "display_data"
    }
   ],
   "source": [
    "ax = sns.histplot(x=tmdb_mais_dez.vote_average,stat=\"count\",kde=True)\n",
    "ax.set_xlabel('Média da notas dos filmes')\n",
    "ax.set_ylabel('Quantidade')\n",
    "ax.set_title('Distribuição de nota média dos filmes do TMDB 5000 entre os filmes com mais de 10 votos')"
   ]
  },
  {
   "cell_type": "code",
   "execution_count": 11,
   "id": "f6d2f77b",
   "metadata": {},
   "outputs": [
    {
     "data": {
      "text/plain": [
       "Text(0.5, 1.0, 'Proporção acumulada de nota média dos filmes no TMDB 5k')"
      ]
     },
     "execution_count": 11,
     "metadata": {},
     "output_type": "execute_result"
    },
    {
     "data": {
      "image/png": "[encoded data removed]",
      "text/plain": [
       "<Figure size 432x288 with 1 Axes>"
      ]
     },
     "metadata": {
      "needs_background": "light"
     },
     "output_type": "display_data"
    }
   ],
   "source": [
    "ax = sns.histplot(x=tmdb_mais_dez.vote_average,\n",
    "                  cumulative=True,\n",
    "                  kde=True,\n",
    "                  bins=70)\n",
    "ax.set_xlabel('Média da notas dos filmes acumulada')\n",
    "ax.set_ylabel('Quantidade')\n",
    "ax.set_title('Proporção acumulada de nota média dos filmes no TMDB 5k')"
   ]
  },
  {
   "cell_type": "code",
   "execution_count": 12,
   "id": "2b78cf5c",
   "metadata": {
    "scrolled": true
   },
   "outputs": [
    {
     "data": {
      "text/plain": [
       "Text(0.5, 1.0, 'Distribuição de nota média dos filmes do TMDB 5000 entre os filmes com mais de 10 votos')"
      ]
     },
     "execution_count": 12,
     "metadata": {},
     "output_type": "execute_result"
    },
    {
     "data": {
      "image/png": "[encoded data removed]",
      "text/plain": [
       "<Figure size 432x288 with 1 Axes>"
      ]
     },
     "metadata": {
      "needs_background": "light"
     },
     "output_type": "display_data"
    }
   ],
   "source": [
    "ax = sns.boxplot(x=tmdb_mais_dez.vote_average)\n",
    "ax.set_xlabel('Média da notas dos filmes')\n",
    "ax.set_title('Distribuição de nota média dos filmes do TMDB 5000 entre os filmes com mais de 10 votos')"
   ]
  },
  {
   "cell_type": "markdown",
   "id": "85a0af90",
   "metadata": {},
   "source": [
    "analisaremos tbm o movie lens"
   ]
  },
  {
   "cell_type": "code",
   "execution_count": 13,
   "id": "ad1aa8e7",
   "metadata": {},
   "outputs": [
    {
     "data": {
      "text/html": [
       "<div>\n",
       "<style scoped>\n",
       "    .dataframe tbody tr th:only-of-type {\n",
       "        vertical-align: middle;\n",
       "    }\n",
       "\n",
       "    .dataframe tbody tr th {\n",
       "        vertical-align: top;\n",
       "    }\n",
       "\n",
       "    .dataframe thead th {\n",
       "        text-align: right;\n",
       "    }\n",
       "</style>\n",
       "<table border=\"1\" class=\"dataframe\">\n",
       "  <thead>\n",
       "    <tr style=\"text-align: right;\">\n",
       "      <th></th>\n",
       "      <th>userId</th>\n",
       "      <th>movieId</th>\n",
       "      <th>rating</th>\n",
       "      <th>timestamp</th>\n",
       "    </tr>\n",
       "  </thead>\n",
       "  <tbody>\n",
       "    <tr>\n",
       "      <th>0</th>\n",
       "      <td>1</td>\n",
       "      <td>1</td>\n",
       "      <td>4.0</td>\n",
       "      <td>964982703</td>\n",
       "    </tr>\n",
       "    <tr>\n",
       "      <th>1</th>\n",
       "      <td>1</td>\n",
       "      <td>3</td>\n",
       "      <td>4.0</td>\n",
       "      <td>964981247</td>\n",
       "    </tr>\n",
       "    <tr>\n",
       "      <th>2</th>\n",
       "      <td>1</td>\n",
       "      <td>6</td>\n",
       "      <td>4.0</td>\n",
       "      <td>964982224</td>\n",
       "    </tr>\n",
       "    <tr>\n",
       "      <th>3</th>\n",
       "      <td>1</td>\n",
       "      <td>47</td>\n",
       "      <td>5.0</td>\n",
       "      <td>964983815</td>\n",
       "    </tr>\n",
       "    <tr>\n",
       "      <th>4</th>\n",
       "      <td>1</td>\n",
       "      <td>50</td>\n",
       "      <td>5.0</td>\n",
       "      <td>964982931</td>\n",
       "    </tr>\n",
       "  </tbody>\n",
       "</table>\n",
       "</div>"
      ],
      "text/plain": [
       "   userId  movieId  rating  timestamp\n",
       "0       1        1     4.0  964982703\n",
       "1       1        3     4.0  964981247\n",
       "2       1        6     4.0  964982224\n",
       "3       1       47     5.0  964983815\n",
       "4       1       50     5.0  964982931"
      ]
     },
     "execution_count": 13,
     "metadata": {},
     "output_type": "execute_result"
    }
   ],
   "source": [
    "notas = pd.read_csv('dados/ratings.csv')\n",
    "notas.head()"
   ]
  },
  {
   "cell_type": "code",
   "execution_count": 14,
   "id": "9957f990",
   "metadata": {},
   "outputs": [
    {
     "data": {
      "text/plain": [
       "movieId\n",
       "1    3.920930\n",
       "2    3.431818\n",
       "3    3.259615\n",
       "4    2.357143\n",
       "5    3.071429\n",
       "Name: rating, dtype: float64"
      ]
     },
     "execution_count": 14,
     "metadata": {},
     "output_type": "execute_result"
    }
   ],
   "source": [
    "media_nota = notas.groupby('movieId').mean().rating\n",
    "media_nota.head()"
   ]
  },
  {
   "cell_type": "code",
   "execution_count": 15,
   "id": "2495f82f",
   "metadata": {},
   "outputs": [
    {
     "data": {
      "text/plain": [
       "Text(0.5, 1.0, 'Distribuição de nota média dos filmes no Movielens 100k')"
      ]
     },
     "execution_count": 15,
     "metadata": {},
     "output_type": "execute_result"
    },
    {
     "data": {
      "image/png": "[encoded data removed]",
      "text/plain": [
       "<Figure size 432x288 with 1 Axes>"
      ]
     },
     "metadata": {
      "needs_background": "light"
     },
     "output_type": "display_data"
    }
   ],
   "source": [
    "ax = sns.histplot(x=media_nota.values,stat=\"count\",kde=True)\n",
    "ax.set_xlabel('Média da notas dos filmes')\n",
    "ax.set_ylabel('Quantidade')\n",
    "ax.set_title('Distribuição de nota média dos filmes no Movielens 100k')"
   ]
  },
  {
   "cell_type": "code",
   "execution_count": 16,
   "id": "0258c4bf",
   "metadata": {},
   "outputs": [
    {
     "data": {
      "text/plain": [
       "array([     1,      2,      3, ..., 177765, 179819, 187593], dtype=int64)"
      ]
     },
     "execution_count": 16,
     "metadata": {},
     "output_type": "execute_result"
    }
   ],
   "source": [
    "quantidade_de_votos_por_filme = notas.groupby('movieId').count()\n",
    "filmes_com_ate_10_votos = quantidade_de_votos_por_filme.query('rating >= 10').index\n",
    "filmes_com_ate_10_votos.values"
   ]
  },
  {
   "cell_type": "code",
   "execution_count": 17,
   "id": "553dc598",
   "metadata": {},
   "outputs": [
    {
     "data": {
      "text/plain": [
       "movieId\n",
       "1         3.920930\n",
       "2         3.431818\n",
       "3         3.259615\n",
       "5         3.071429\n",
       "6         3.946078\n",
       "            ...   \n",
       "174055    3.423077\n",
       "176371    3.805556\n",
       "177765    3.538462\n",
       "179819    3.125000\n",
       "187593    3.875000\n",
       "Name: rating, Length: 2269, dtype: float64"
      ]
     },
     "execution_count": 17,
     "metadata": {},
     "output_type": "execute_result"
    }
   ],
   "source": [
    "nota_media_com_pelo_menos_10_votos = media_nota.loc[filmes_com_ate_10_votos.values]\n",
    "nota_media_com_pelo_menos_10_votos"
   ]
  },
  {
   "cell_type": "code",
   "execution_count": 18,
   "id": "10fdbf65",
   "metadata": {},
   "outputs": [
    {
     "data": {
      "text/plain": [
       "Text(0.5, 1.0, 'Distribuição de nota média dos filmes no Movielens 100k')"
      ]
     },
     "execution_count": 18,
     "metadata": {},
     "output_type": "execute_result"
    },
    {
     "data": {
      "image/png": "[encoded data removed]",
      "text/plain": [
       "<Figure size 432x288 with 1 Axes>"
      ]
     },
     "metadata": {
      "needs_background": "light"
     },
     "output_type": "display_data"
    }
   ],
   "source": [
    "ax = sns.histplot(x=nota_media_com_pelo_menos_10_votos.values,stat=\"count\",kde=True,bins=70)\n",
    "ax.set_xlabel('Média da notas dos filmes')\n",
    "ax.set_ylabel('Quantidade')\n",
    "ax.set_title('Distribuição de nota média dos filmes no Movielens 100k')"
   ]
  },
  {
   "cell_type": "code",
   "execution_count": 19,
   "id": "0fa0a3d7",
   "metadata": {},
   "outputs": [
    {
     "data": {
      "text/plain": [
       "Text(0.5, 1.0, 'Proporção acumulada de nota média dos filmes no Movielens 100k')"
      ]
     },
     "execution_count": 19,
     "metadata": {},
     "output_type": "execute_result"
    },
    {
     "data": {
      "image/png": "[encoded data removed]",
      "text/plain": [
       "<Figure size 432x288 with 1 Axes>"
      ]
     },
     "metadata": {
      "needs_background": "light"
     },
     "output_type": "display_data"
    }
   ],
   "source": [
    "ax = sns.histplot(x=nota_media_com_pelo_menos_10_votos.values,\n",
    "                  cumulative=True,\n",
    "                  kde=True,\n",
    "                  bins=70)\n",
    "ax.set_xlabel('Média da notas dos filmes')\n",
    "ax.set_ylabel('Quantidade')\n",
    "ax.set_title('Proporção acumulada de nota média dos filmes no Movielens 100k')"
   ]
  },
  {
   "cell_type": "code",
   "execution_count": 20,
   "id": "74c3c734",
   "metadata": {},
   "outputs": [
    {
     "data": {
      "text/plain": [
       "Text(0.5, 1.0, 'Distribuição de nota média dos filmes do movielens 100k entre os filmes com mais de 10 votos')"
      ]
     },
     "execution_count": 20,
     "metadata": {},
     "output_type": "execute_result"
    },
    {
     "data": {
      "image/png": "[encoded data removed]",
      "text/plain": [
       "<Figure size 432x288 with 1 Axes>"
      ]
     },
     "metadata": {
      "needs_background": "light"
     },
     "output_type": "display_data"
    }
   ],
   "source": [
    "ax = sns.boxplot(x=nota_media_com_pelo_menos_10_votos.values)\n",
    "ax.set_xlabel('Média da notas dos filmes')\n",
    "ax.set_title('Distribuição de nota média dos filmes do movielens 100k entre os filmes com mais de 10 votos')"
   ]
  },
  {
   "cell_type": "markdown",
   "id": "6fb64629",
   "metadata": {},
   "source": [
    "## analisando a distribuiçao dos dados capturados de outros campos do TMDB"
   ]
  },
  {
   "cell_type": "code",
   "execution_count": 21,
   "id": "a5885e8a",
   "metadata": {},
   "outputs": [
    {
     "data": {
      "text/plain": [
       "Text(0.5, 1.0, 'Distribuição de notas dos filmes no TMDB 5k')"
      ]
     },
     "execution_count": 21,
     "metadata": {},
     "output_type": "execute_result"
    },
    {
     "data": {
      "image/png": "[encoded data removed]",
      "text/plain": [
       "<Figure size 432x288 with 1 Axes>"
      ]
     },
     "metadata": {
      "needs_background": "light"
     },
     "output_type": "display_data"
    }
   ],
   "source": [
    "ax = sns.histplot(x=tmdb_mais_dez.vote_count,stat=\"count\",kde=True,bins=70)\n",
    "ax.set_xlabel('Numero de votos')\n",
    "ax.set_ylabel('Quantidade')\n",
    "ax.set_title('Distribuição de notas dos filmes no TMDB 5k')\n"
   ]
  },
  {
   "cell_type": "code",
   "execution_count": 22,
   "id": "4cfbd095",
   "metadata": {},
   "outputs": [
    {
     "data": {
      "text/plain": [
       "Text(0.5, 1.0, 'Distribuição de notas dos filmes no TMDB 5k')"
      ]
     },
     "execution_count": 22,
     "metadata": {},
     "output_type": "execute_result"
    },
    {
     "data": {
      "image/png": "[encoded data removed]",
      "text/plain": [
       "<Figure size 432x288 with 1 Axes>"
      ]
     },
     "metadata": {
      "needs_background": "light"
     },
     "output_type": "display_data"
    }
   ],
   "source": [
    "ax = sns.histplot(x=tmdb.query('budget > 0').budget,stat=\"count\",kde=True,bins=70)\n",
    "ax.set_xlabel('Numero de votos')\n",
    "ax.set_ylabel('Quantidade')\n",
    "ax.set_title('Distribuição de notas dos filmes no TMDB 5k')"
   ]
  },
  {
   "cell_type": "code",
   "execution_count": 23,
   "id": "0a82aa67",
   "metadata": {},
   "outputs": [
    {
     "data": {
      "text/plain": [
       "0       150.437577\n",
       "1       139.082615\n",
       "2       107.376788\n",
       "3       112.312950\n",
       "4        43.926995\n",
       "           ...    \n",
       "4798     14.269792\n",
       "4799      0.642552\n",
       "4800      1.444476\n",
       "4801      0.857008\n",
       "4802      1.929883\n",
       "Name: popularity, Length: 4803, dtype: float64"
      ]
     },
     "execution_count": 23,
     "metadata": {},
     "output_type": "execute_result"
    }
   ],
   "source": [
    "tmdb.popularity"
   ]
  },
  {
   "cell_type": "code",
   "execution_count": 24,
   "id": "b836a418",
   "metadata": {},
   "outputs": [
    {
     "data": {
      "text/html": [
       "<div>\n",
       "<style scoped>\n",
       "    .dataframe tbody tr th:only-of-type {\n",
       "        vertical-align: middle;\n",
       "    }\n",
       "\n",
       "    .dataframe tbody tr th {\n",
       "        vertical-align: top;\n",
       "    }\n",
       "\n",
       "    .dataframe thead th {\n",
       "        text-align: right;\n",
       "    }\n",
       "</style>\n",
       "<table border=\"1\" class=\"dataframe\">\n",
       "  <thead>\n",
       "    <tr style=\"text-align: right;\">\n",
       "      <th></th>\n",
       "      <th>budget</th>\n",
       "      <th>genres</th>\n",
       "      <th>homepage</th>\n",
       "      <th>id</th>\n",
       "      <th>keywords</th>\n",
       "      <th>original_language</th>\n",
       "      <th>original_title</th>\n",
       "      <th>overview</th>\n",
       "      <th>popularity</th>\n",
       "      <th>production_companies</th>\n",
       "      <th>production_countries</th>\n",
       "      <th>release_date</th>\n",
       "      <th>revenue</th>\n",
       "      <th>runtime</th>\n",
       "      <th>spoken_languages</th>\n",
       "      <th>status</th>\n",
       "      <th>tagline</th>\n",
       "      <th>title</th>\n",
       "      <th>vote_average</th>\n",
       "      <th>vote_count</th>\n",
       "    </tr>\n",
       "  </thead>\n",
       "  <tbody>\n",
       "    <tr>\n",
       "      <th>4553</th>\n",
       "      <td>0</td>\n",
       "      <td>[]</td>\n",
       "      <td>NaN</td>\n",
       "      <td>380097</td>\n",
       "      <td>[]</td>\n",
       "      <td>en</td>\n",
       "      <td>America Is Still the Place</td>\n",
       "      <td>1971 post civil rights San Francisco seemed li...</td>\n",
       "      <td>0.0</td>\n",
       "      <td>[]</td>\n",
       "      <td>[]</td>\n",
       "      <td>NaN</td>\n",
       "      <td>0</td>\n",
       "      <td>0.0</td>\n",
       "      <td>[]</td>\n",
       "      <td>Released</td>\n",
       "      <td>NaN</td>\n",
       "      <td>America Is Still the Place</td>\n",
       "      <td>0.0</td>\n",
       "      <td>0</td>\n",
       "    </tr>\n",
       "  </tbody>\n",
       "</table>\n",
       "</div>"
      ],
      "text/plain": [
       "      budget genres homepage      id keywords original_language  \\\n",
       "4553       0     []      NaN  380097       []                en   \n",
       "\n",
       "                  original_title  \\\n",
       "4553  America Is Still the Place   \n",
       "\n",
       "                                               overview  popularity  \\\n",
       "4553  1971 post civil rights San Francisco seemed li...         0.0   \n",
       "\n",
       "     production_companies production_countries release_date  revenue  runtime  \\\n",
       "4553                   []                   []          NaN        0      0.0   \n",
       "\n",
       "     spoken_languages    status tagline                       title  \\\n",
       "4553               []  Released     NaN  America Is Still the Place   \n",
       "\n",
       "      vote_average  vote_count  \n",
       "4553           0.0           0  "
      ]
     },
     "execution_count": 24,
     "metadata": {},
     "output_type": "execute_result"
    }
   ],
   "source": [
    "tmdb.query('popularity == 0')"
   ]
  },
  {
   "cell_type": "markdown",
   "id": "853fa254",
   "metadata": {},
   "source": [
    "Já que existe apenas um dado com popularidade igual a zero, iremos supor então que esse dado realmente tem nenhuma popularidade e não será deletado."
   ]
  },
  {
   "cell_type": "code",
   "execution_count": 25,
   "id": "46d88eb4",
   "metadata": {},
   "outputs": [
    {
     "data": {
      "text/plain": [
       "Text(0.5, 1.0, 'Distribuição de notas dos filmes no TMDB 5k')"
      ]
     },
     "execution_count": 25,
     "metadata": {},
     "output_type": "execute_result"
    },
    {
     "data": {
      "image/png": "[encoded data removed]",
      "text/plain": [
       "<Figure size 432x288 with 1 Axes>"
      ]
     },
     "metadata": {
      "needs_background": "light"
     },
     "output_type": "display_data"
    }
   ],
   "source": [
    "ax = sns.histplot(x=tmdb.popularity,stat=\"count\",kde=True,bins=70)\n",
    "ax.set_xlabel('Popularidade')\n",
    "ax.set_ylabel('Quantidade')\n",
    "ax.set_title('Distribuição de notas dos filmes no TMDB 5k')"
   ]
  },
  {
   "cell_type": "code",
   "execution_count": 26,
   "id": "30d423de",
   "metadata": {},
   "outputs": [
    {
     "data": {
      "text/plain": [
       "Text(0.5, 1.0, 'Distribuição de notas dos filmes no TMDB 5k')"
      ]
     },
     "execution_count": 26,
     "metadata": {},
     "output_type": "execute_result"
    },
    {
     "data": {
      "image/png": "[encoded data removed]",
      "text/plain": [
       "<Figure size 432x288 with 1 Axes>"
      ]
     },
     "metadata": {
      "needs_background": "light"
     },
     "output_type": "display_data"
    }
   ],
   "source": [
    "ax = sns.histplot(x=tmdb.runtime,stat=\"count\",kde=True,bins=70)\n",
    "ax.set_xlabel('Tempo de duração')\n",
    "ax.set_ylabel('Quantidade')\n",
    "ax.set_title('Distribuição de notas dos filmes no TMDB 5k')"
   ]
  },
  {
   "cell_type": "markdown",
   "id": "ac561559",
   "metadata": {},
   "source": [
    "Deveria trazer um erro mas ele interpretou, o erro deveria ser \" ValueError: cannot convert float NaN to integer \", e podemos ver filmes com zero de duração."
   ]
  },
  {
   "cell_type": "code",
   "execution_count": 27,
   "id": "f952e154",
   "metadata": {},
   "outputs": [
    {
     "data": {
      "text/plain": [
       "2"
      ]
     },
     "execution_count": 27,
     "metadata": {},
     "output_type": "execute_result"
    }
   ],
   "source": [
    "tmdb.runtime.isnull().sum()"
   ]
  },
  {
   "cell_type": "code",
   "execution_count": 28,
   "id": "4be7a13f",
   "metadata": {},
   "outputs": [
    {
     "data": {
      "text/plain": [
       "1011    0.0\n",
       "3112    0.0\n",
       "3669    0.0\n",
       "3809    0.0\n",
       "3953    0.0\n",
       "3992    0.0\n",
       "4068    0.0\n",
       "4118    0.0\n",
       "4205    0.0\n",
       "4210    0.0\n",
       "4241    0.0\n",
       "4313    0.0\n",
       "4318    0.0\n",
       "4322    0.0\n",
       "4328    0.0\n",
       "4405    0.0\n",
       "4435    0.0\n",
       "4458    0.0\n",
       "4502    0.0\n",
       "4504    0.0\n",
       "4553    0.0\n",
       "4558    0.0\n",
       "4564    0.0\n",
       "4566    0.0\n",
       "4569    0.0\n",
       "4571    0.0\n",
       "4581    0.0\n",
       "4584    0.0\n",
       "4611    0.0\n",
       "4620    0.0\n",
       "4633    0.0\n",
       "4657    0.0\n",
       "4658    0.0\n",
       "4662    0.0\n",
       "4729    0.0\n",
       "Name: runtime, dtype: float64"
      ]
     },
     "execution_count": 28,
     "metadata": {},
     "output_type": "execute_result"
    }
   ],
   "source": [
    "tmdb.query('runtime == 0').runtime"
   ]
  },
  {
   "cell_type": "code",
   "execution_count": 29,
   "id": "d24ed0ee",
   "metadata": {},
   "outputs": [
    {
     "data": {
      "text/plain": [
       "Text(0.5, 1.0, 'Distribuição de notas dos filmes no TMDB 5k')"
      ]
     },
     "execution_count": 29,
     "metadata": {},
     "output_type": "execute_result"
    },
    {
     "data": {
      "image/png": "[encoded data removed]",
      "text/plain": [
       "<Figure size 432x288 with 1 Axes>"
      ]
     },
     "metadata": {
      "needs_background": "light"
     },
     "output_type": "display_data"
    }
   ],
   "source": [
    "ax = sns.histplot(x=tmdb.query('runtime > 0').runtime.dropna(),stat=\"count\",kde=True,bins=70)\n",
    "ax.set_xlabel('Tempo de duração')\n",
    "ax.set_ylabel('Quantidade')\n",
    "ax.set_title('Distribuição de notas dos filmes no TMDB 5k')"
   ]
  },
  {
   "cell_type": "code",
   "execution_count": 30,
   "id": "c533d40c",
   "metadata": {},
   "outputs": [
    {
     "data": {
      "text/plain": [
       "Text(0.5, 1.0, 'Distribuição de notas dos filmes no TMDB 5k')"
      ]
     },
     "execution_count": 30,
     "metadata": {},
     "output_type": "execute_result"
    },
    {
     "data": {
      "image/png": "[encoded data removed]",
      "text/plain": [
       "<Figure size 432x288 with 1 Axes>"
      ]
     },
     "metadata": {
      "needs_background": "light"
     },
     "output_type": "display_data"
    }
   ],
   "source": [
    "ax = sns.histplot(x=tmdb.query('runtime > 0').runtime.dropna(),stat=\"probability\",cumulative=True,kde=True,bins=70)\n",
    "ax.set_xlabel('Tempo de duração')\n",
    "ax.set_ylabel('Proporção de duração')\n",
    "ax.set_title('Distribuição de notas dos filmes no TMDB 5k')"
   ]
  },
  {
   "cell_type": "code",
   "execution_count": 31,
   "id": "18af52fd",
   "metadata": {},
   "outputs": [
    {
     "data": {
      "text/plain": [
       "121.0"
      ]
     },
     "execution_count": 31,
     "metadata": {},
     "output_type": "execute_result"
    }
   ],
   "source": [
    "tmdb.query('runtime > 0').runtime.dropna().quantile(0.8)"
   ]
  },
  {
   "cell_type": "markdown",
   "id": "984ddcf6",
   "metadata": {},
   "source": [
    "analisando movie lens com pelo menos 10 votos"
   ]
  },
  {
   "cell_type": "code",
   "execution_count": 32,
   "id": "e3476159",
   "metadata": {},
   "outputs": [
    {
     "name": "stdout",
     "output_type": "stream",
     "text": [
      "Média dos filmes com pelo menos 10 votos: 3.432\n"
     ]
    }
   ],
   "source": [
    "print('Média dos filmes com pelo menos 10 votos: {:.3f}'.\n",
    "      format(nota_media_com_pelo_menos_10_votos.mean()))"
   ]
  },
  {
   "cell_type": "code",
   "execution_count": 33,
   "id": "949c6049",
   "metadata": {},
   "outputs": [
    {
     "data": {
      "text/plain": [
       "[<matplotlib.lines.Line2D at 0x10940845d60>]"
      ]
     },
     "execution_count": 33,
     "metadata": {},
     "output_type": "execute_result"
    },
    {
     "data": {
      "image/png": "[encoded data removed]",
      "text/plain": [
       "<Figure size 432x288 with 1 Axes>"
      ]
     },
     "metadata": {
      "needs_background": "light"
     },
     "output_type": "display_data"
    }
   ],
   "source": [
    "medias = list()\n",
    "\n",
    "np.random.seed(75243)\n",
    "temp = nota_media_com_pelo_menos_10_votos.sample(frac=1)\n",
    "\n",
    "medias = [temp[0:i].mean() for i in range(1,len(temp))]\n",
    "\n",
    "plt.plot(medias)"
   ]
  },
  {
   "cell_type": "code",
   "execution_count": 37,
   "id": "1cf96017",
   "metadata": {},
   "outputs": [
    {
     "data": {
      "text/plain": [
       "(3.4112459477469557, 3.452854733323563)"
      ]
     },
     "execution_count": 37,
     "metadata": {},
     "output_type": "execute_result"
    }
   ],
   "source": [
    "from statsmodels.stats.weightstats import zconfint  #confidence interval\n",
    "\n",
    "zconfint(nota_media_com_pelo_menos_10_votos)\n",
    "\n",
    "#dado o conjunto de dados e acreditando que é  uma amostra grande suficiente para\n",
    "#aplicar esse tipo d teste, esse teste EXIGE normalidade, dados grande. \n",
    "#entao temos esse intervalo de confienaça pelos filmes EM GERAL. "
   ]
  },
  {
   "cell_type": "code",
   "execution_count": 40,
   "id": "fb194bf2",
   "metadata": {},
   "outputs": [
    {
     "data": {
      "text/plain": [
       "(3.411234839229379, 3.4528658418411378)"
      ]
     },
     "execution_count": 40,
     "metadata": {},
     "output_type": "execute_result"
    }
   ],
   "source": [
    "from statsmodels.stats.weightstats import DescrStatsW\n",
    "decricao_todos_com_10_votos = DescrStatsW(nota_media_com_pelo_menos_10_votos)\n",
    "decricao_todos_com_10_votos.tconfint_mean()"
   ]
  },
  {
   "cell_type": "markdown",
   "id": "e43ec5a7",
   "metadata": {},
   "source": [
    "## vamos ver o filme 1..."
   ]
  },
  {
   "cell_type": "code",
   "execution_count": 46,
   "id": "1b355543",
   "metadata": {},
   "outputs": [
    {
     "data": {
      "text/html": [
       "<div>\n",
       "<style scoped>\n",
       "    .dataframe tbody tr th:only-of-type {\n",
       "        vertical-align: middle;\n",
       "    }\n",
       "\n",
       "    .dataframe tbody tr th {\n",
       "        vertical-align: top;\n",
       "    }\n",
       "\n",
       "    .dataframe thead th {\n",
       "        text-align: right;\n",
       "    }\n",
       "</style>\n",
       "<table border=\"1\" class=\"dataframe\">\n",
       "  <thead>\n",
       "    <tr style=\"text-align: right;\">\n",
       "      <th></th>\n",
       "      <th>movieId</th>\n",
       "      <th>title</th>\n",
       "      <th>genres</th>\n",
       "    </tr>\n",
       "  </thead>\n",
       "  <tbody>\n",
       "    <tr>\n",
       "      <th>0</th>\n",
       "      <td>1</td>\n",
       "      <td>Toy Story (1995)</td>\n",
       "      <td>Adventure|Animation|Children|Comedy|Fantasy</td>\n",
       "    </tr>\n",
       "  </tbody>\n",
       "</table>\n",
       "</div>"
      ],
      "text/plain": [
       "   movieId             title                                       genres\n",
       "0        1  Toy Story (1995)  Adventure|Animation|Children|Comedy|Fantasy"
      ]
     },
     "execution_count": 46,
     "metadata": {},
     "output_type": "execute_result"
    }
   ],
   "source": [
    "filmes = pd.read_csv('dados/movies.csv')\n",
    "filmes.query('movieId==1')"
   ]
  },
  {
   "cell_type": "code",
   "execution_count": 59,
   "id": "aef760cb",
   "metadata": {},
   "outputs": [
    {
     "data": {
      "image/png": "[encoded data removed]",
      "text/plain": [
       "<Figure size 432x288 with 1 Axes>"
      ]
     },
     "metadata": {
      "needs_background": "light"
     },
     "output_type": "display_data"
    }
   ],
   "source": [
    "notas1 = notas.query('movieId==1')\n",
    "\n",
    "ax = sns.histplot(x=notas1.rating,stat=\"count\",kde=True,bins=70)\n",
    "ax.set_xlabel('Notas')\n",
    "ax.set_ylabel('Quantidade')\n",
    "ax.set_title('Distribuição das notas do Toy Story')\n",
    "plt.show()"
   ]
  },
  {
   "cell_type": "code",
   "execution_count": 62,
   "id": "6299cf76",
   "metadata": {},
   "outputs": [
    {
     "data": {
      "text/plain": [
       "Text(0.5, 1.0, 'Distribuição das notas do Toy Story')"
      ]
     },
     "execution_count": 62,
     "metadata": {},
     "output_type": "execute_result"
    },
    {
     "data": {
      "image/png": "[encoded data removed]",
      "text/plain": [
       "<Figure size 432x288 with 1 Axes>"
      ]
     },
     "metadata": {
      "needs_background": "light"
     },
     "output_type": "display_data"
    }
   ],
   "source": [
    "ax = sns.boxplot(x=notas1.rating)\n",
    "ax.set_xlabel('Notas')\n",
    "ax.set_title('Distribuição das notas do Toy Story')"
   ]
  },
  {
   "cell_type": "code",
   "execution_count": 63,
   "id": "e9cc493d",
   "metadata": {},
   "outputs": [
    {
     "data": {
      "text/plain": [
       "3.9209302325581397"
      ]
     },
     "execution_count": 63,
     "metadata": {},
     "output_type": "execute_result"
    }
   ],
   "source": [
    "notas1.rating.mean()"
   ]
  },
  {
   "cell_type": "code",
   "execution_count": 64,
   "id": "260f7fba",
   "metadata": {},
   "outputs": [
    {
     "data": {
      "text/plain": [
       "215"
      ]
     },
     "execution_count": 64,
     "metadata": {},
     "output_type": "execute_result"
    }
   ],
   "source": [
    "notas1.rating.count()"
   ]
  },
  {
   "cell_type": "code",
   "execution_count": 65,
   "id": "2349674d",
   "metadata": {},
   "outputs": [
    {
     "data": {
      "text/plain": [
       "(3.8093359183563402, 4.032524546759939)"
      ]
     },
     "execution_count": 65,
     "metadata": {},
     "output_type": "execute_result"
    }
   ],
   "source": [
    "zconfint(notas1.rating)"
   ]
  },
  {
   "cell_type": "code",
   "execution_count": 69,
   "id": "a8fce575",
   "metadata": {},
   "outputs": [
    {
     "name": "stdout",
     "output_type": "stream",
     "text": [
      "o valor d p-valor =  8.909392288271546e-18\n",
      "Então vamos rejeitar essa hipótese (menor que 0,05)\n"
     ]
    }
   ],
   "source": [
    "#esse teste é uma afirmação, 'acredito que a nota do toy story seja a nota media de todos os filmes'\n",
    "from statsmodels.stats.weightstats import ztest\n",
    "statistic, p_value =ztest(notas1.rating, value=3.432)\n",
    "print('o valor d p-valor = ',p_value)\n",
    "print('Então vamos rejeitar essa hipótese (menor que 0,05)')"
   ]
  },
  {
   "cell_type": "code",
   "execution_count": 73,
   "id": "5b31e699",
   "metadata": {},
   "outputs": [
    {
     "name": "stdout",
     "output_type": "stream",
     "text": [
      "rejeitar hipotese\n"
     ]
    }
   ],
   "source": [
    "if p_value<=0.05:\n",
    "    print('rejeitar hipotese')\n",
    "else:\n",
    "    print('aceitar hipotese')"
   ]
  },
  {
   "cell_type": "code",
   "execution_count": null,
   "id": "0ebb9256",
   "metadata": {},
   "outputs": [],
   "source": []
  },
  {
   "cell_type": "code",
   "execution_count": null,
   "id": "361ac2f8",
   "metadata": {},
   "outputs": [],
   "source": []
  }
 ],
 "metadata": {
  "kernelspec": {
   "display_name": "Python 3",
   "language": "python",
   "name": "python3"
  },
  "language_info": {
   "codemirror_mode": {
    "name": "ipython",
    "version": 3
   },
   "file_extension": ".py",
   "mimetype": "text/x-python",
   "name": "python",
   "nbconvert_exporter": "python",
   "pygments_lexer": "ipython3",
   "version": "3.8.8"
  },
  "varInspector": {
   "cols": {
    "lenName": 16,
    "lenType": 16,
    "lenVar": 40
   },
   "kernels_config": {
    "python": {
     "delete_cmd_postfix": "",
     "delete_cmd_prefix": "del ",
     "library": "var_list.py",
     "varRefreshCmd": "print(var_dic_list())"
    },
    "r": {
     "delete_cmd_postfix": ") ",
     "delete_cmd_prefix": "rm(",
     "library": "var_list.r",
     "varRefreshCmd": "cat(var_dic_list()) "
    }
   },
   "types_to_exclude": [
    "module",
    "function",
    "builtin_function_or_method",
    "instance",
    "_Feature"
   ],
   "window_display": false
  }
 },
 "nbformat": 4,
 "nbformat_minor": 5
}
